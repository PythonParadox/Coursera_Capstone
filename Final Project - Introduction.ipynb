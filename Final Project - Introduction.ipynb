{
    "cells": [
        {
            "cell_type": "markdown",
            "metadata": {
                "collapsed": true
            },
            "source": "# Introduction\n\nFor many people, having a close primary care centre in their local neighbourhood is a source of comfort and security in their health. They can act as the 'first point of contact' for many people who are faced with an unfamiliar medical condition/symptoms. They can also act with a number of different services, like community pharmacy, dental and optometry. With this in mind, and the COVID-19 pandemic causing damage on a scale that most were unprepared for, a new centre may be required. With the opening of a new centre, it would allow for greater reallocation of staff/resources within the district of Canterbury. Additionally, the established centres in the area would be relieved of some stress from processing any people in need of diagnosis, allowing for more people to be properly diagnosed and cared for.\n\nFor a decision like this with long-term consequences, serious consideration would be needed and would require a lot of logistical work. One aspect of that would the choice of location, which would have a major impact on how much of the neighbourhoods of Canterbury would go to it. Choosing an area that is lacking in accessibility to others would have a minimal impact on the present workload that is being handled by established centres.\n\nThe objective of this project is to analyze and select the best locations of the City of Canterbury, Kent, United Kingdom. Using data science methodology and machine learning techniques, like clustering, we will trying to answer the question: In Canterbury, if a new primary care centre would be needed, where would be the best place to open it?\n\nThis project would be particularly useful for those who are involved in the NHS and looking to assist in the current healthcare situation. As of July 2020, there have been 696 cases of COVID-19, with 117 confirmed deaths. This is occurring at a rate of 422 cases per 100,000 people."
        }
    ],
    "metadata": {
        "kernelspec": {
            "display_name": "Python 3.6",
            "language": "python",
            "name": "python3"
        },
        "language_info": {
            "codemirror_mode": {
                "name": "ipython",
                "version": 3
            },
            "file_extension": ".py",
            "mimetype": "text/x-python",
            "name": "python",
            "nbconvert_exporter": "python",
            "pygments_lexer": "ipython3",
            "version": "3.6.9"
        }
    },
    "nbformat": 4,
    "nbformat_minor": 1
}