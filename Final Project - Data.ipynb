{
    "cells": [
        {
            "cell_type": "markdown",
            "metadata": {
                "collapsed": true
            },
            "source": "# Data\n\n**Required Data**\n\n***\n\n* List of neighbourhoods in Canterbury, as this will determine the scope of our project, which is confined to the City of Canterbury, within the county of Kent, in the South East of the United Kingdom.\n* Latitude and longitude of those neighbourhoods, as this help to create a visualisation on a map and to get the needed venue data for those areas.\n* Venue data, more specifically, data related to medical/health centres and any GP surgeries. This would allow us to form a clustering algorithm on the neighbourhoods.\n\n**Sources of Data & the Methods of Extraction**\n\n***\n\nThis Wikipedia page (https://en.wikipedia.org/wiki/City_of_Canterbury) contains a list of neighbourhoods/parishes in the district, with the total reaching 29. We will use web scraping techniques to extract the data from the Wikipedia page, with the help of Python requests and beautifulsoup packages. Then we will get the geographical coordinates of the neighbourhoods using Python Geocoder package which will give us the latitude and longitude coordinates of the neighbourhoods.\n\nAfter that, we will use Foursquare API to get the venue data for those neighbourhoods. Foursquare has one of the largest database of 105+ million places and is used by over 125,000 developers. Foursquare API will provide many categories of the venue data, we are particularly interested in any categories related to primary care and are capable of providing such services in order to help us to solve the business problem put forward. This is a project that will make use of many data science skills, from web scraping (Wikipedia), working with API (Foursquare), data cleaning, data wrangling, to machine learning (K-means clustering) and map visualization (Folium)."
        }
    ],
    "metadata": {
        "kernelspec": {
            "display_name": "Python 3.6",
            "language": "python",
            "name": "python3"
        },
        "language_info": {
            "codemirror_mode": {
                "name": "ipython",
                "version": 3
            },
            "file_extension": ".py",
            "mimetype": "text/x-python",
            "name": "python",
            "nbconvert_exporter": "python",
            "pygments_lexer": "ipython3",
            "version": "3.6.9"
        }
    },
    "nbformat": 4,
    "nbformat_minor": 1
}